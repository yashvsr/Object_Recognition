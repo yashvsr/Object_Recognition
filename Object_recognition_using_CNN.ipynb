{
  "cells": [
    {
      "cell_type": "markdown",
      "metadata": {
        "id": "GtHdnz29CUJy"
      },
      "source": [
        "# 1: Installation and Setup"
      ]
    },
    {
      "cell_type": "code",
      "execution_count": null,
      "metadata": {
        "colab": {
          "base_uri": "https://localhost:8080/"
        },
        "id": "3psmUD80CM9q",
        "outputId": "26bc230f-0b7f-4865-9044-70bcc9ffd279"
      },
      "outputs": [
        {
          "name": "stdout",
          "output_type": "stream",
          "text": [
            "\u001b[K     |████████████████████████████████| 489.6 MB 20 kB/s \n",
            "\u001b[?25h"
          ]
        }
      ],
      "source": [
        "# Installing Tensorflow\n",
        "! pip install -q tensorflow-gpu"
      ]
    },
    {
      "cell_type": "code",
      "execution_count": null,
      "metadata": {
        "colab": {
          "base_uri": "https://localhost:8080/"
        },
        "id": "Buh8oX3sDp5p",
        "outputId": "597d23be-58d8-4f70-8764-d752dd885606"
      },
      "outputs": [
        {
          "name": "stdout",
          "output_type": "stream",
          "text": [
            "2.7.0\n"
          ]
        }
      ],
      "source": [
        "import tensorflow as tf\n",
        "print(tf.__version__)"
      ]
    },
    {
      "cell_type": "code",
      "execution_count": null,
      "metadata": {
        "id": "t_OtpNuCDxWM"
      },
      "outputs": [],
      "source": [
        "import numpy as np\n",
        "import pandas as pd\n",
        "import matplotlib.pyplot as plt\n"
      ]
    },
    {
      "cell_type": "markdown",
      "metadata": {
        "id": "z9Rw1oWeD6Fi"
      },
      "source": [
        "# 2: Data Preprocessing"
      ]
    },
    {
      "cell_type": "code",
      "execution_count": null,
      "metadata": {
        "id": "aX_rr2YeD5FM"
      },
      "outputs": [],
      "source": [
        "# Importing the dataset\n",
        "from tensorflow.keras.datasets import cifar10"
      ]
    },
    {
      "cell_type": "code",
      "execution_count": null,
      "metadata": {
        "colab": {
          "base_uri": "https://localhost:8080/"
        },
        "id": "vNbK18jo4ATQ",
        "outputId": "118e0960-732f-4e4d-84b0-7aa1d16d2100"
      },
      "outputs": [
        {
          "name": "stdout",
          "output_type": "stream",
          "text": [
            "Downloading data from https://www.cs.toronto.edu/~kriz/cifar-10-python.tar.gz\n",
            "170500096/170498071 [==============================] - 3s 0us/step\n",
            "170508288/170498071 [==============================] - 3s 0us/step\n"
          ]
        }
      ],
      "source": [
        "# loading the dataset\n",
        "(x_train, y_train), (x_test, y_test) = cifar10.load_data()"
      ]
    },
    {
      "cell_type": "code",
      "execution_count": null,
      "metadata": {
        "id": "zeuL20SbEDgK"
      },
      "outputs": [],
      "source": [
        "class_name = ['0:airplane', '1: automobile' , '2: bird' ,'3:cat', '4:deer', '5:dog',\n",
        "             '6:frog', '7:horse' ,'8: ship ', '9:truck']"
      ]
    },
    {
      "cell_type": "code",
      "execution_count": null,
      "metadata": {
        "colab": {
          "base_uri": "https://localhost:8080/"
        },
        "id": "5D71SnczFVrR",
        "outputId": "f7b0d80a-48e0-44f1-98c4-901c1b9914fe"
      },
      "outputs": [
        {
          "name": "stdout",
          "output_type": "stream",
          "text": [
            "['0:airplane', '1: automobile', '2: bird', '3:cat', '4:deer', '5:dog', '6:frog', '7:horse', '8: ship ', '9:truck']\n"
          ]
        }
      ],
      "source": [
        "print(class_name)"
      ]
    },
    {
      "cell_type": "code",
      "execution_count": null,
      "metadata": {
        "id": "09cPtOIXFmwc"
      },
      "outputs": [],
      "source": [
        "# Noramlizing the images\n",
        "x_train = x_train/255.0\n",
        "x_test = x_test/255.0"
      ]
    },
    {
      "cell_type": "code",
      "execution_count": null,
      "metadata": {
        "colab": {
          "base_uri": "https://localhost:8080/"
        },
        "id": "PO7fCs86Ij7L",
        "outputId": "25f3c80d-6b6b-4e91-ed31-b7e3f93e6928"
      },
      "outputs": [
        {
          "data": {
            "text/plain": [
              "(1.0, 0.0, 0.4733630004850874)"
            ]
          },
          "execution_count": 9,
          "metadata": {},
          "output_type": "execute_result"
        }
      ],
      "source": [
        "x_train.max(), x_train.min(), x_train.mean()"
      ]
    },
    {
      "cell_type": "code",
      "execution_count": null,
      "metadata": {
        "colab": {
          "base_uri": "https://localhost:8080/"
        },
        "id": "e-fJvR4HIj-k",
        "outputId": "43b12904-3530-47f9-bedb-b381bc5aab07"
      },
      "outputs": [
        {
          "data": {
            "text/plain": [
              "((50000, 32, 32, 3), (10000, 32, 32, 3))"
            ]
          },
          "execution_count": 10,
          "metadata": {},
          "output_type": "execute_result"
        }
      ],
      "source": [
        "x_train.shape, x_test.shape"
      ]
    },
    {
      "cell_type": "code",
      "execution_count": null,
      "metadata": {
        "colab": {
          "base_uri": "https://localhost:8080/",
          "height": 283
        },
        "id": "1_74-abzIvJI",
        "outputId": "726edc11-418c-428d-9e61-d1ca3a3144bd"
      },
      "outputs": [
        {
          "data": {
            "text/plain": [
              "<matplotlib.image.AxesImage at 0x7f26b117ef10>"
            ]
          },
          "execution_count": 11,
          "metadata": {},
          "output_type": "execute_result"
        },
        {
          "data": {
            "image/png": "[encoded data removed]",
            "text/plain": [
              "<Figure size 432x288 with 1 Axes>"
            ]
          },
          "metadata": {},
          "output_type": "display_data"
        }
      ],
      "source": [
        "plt.imshow(x_train[0])"
      ]
    },
    {
      "cell_type": "code",
      "execution_count": null,
      "metadata": {
        "colab": {
          "base_uri": "https://localhost:8080/"
        },
        "id": "kxjGVLZwJbaU",
        "outputId": "ce28097d-afa0-46e5-9015-06f8b9b7dff5"
      },
      "outputs": [
        {
          "data": {
            "text/plain": [
              "array([6], dtype=uint8)"
            ]
          },
          "execution_count": 12,
          "metadata": {},
          "output_type": "execute_result"
        }
      ],
      "source": [
        "y_train[0]"
      ]
    },
    {
      "cell_type": "code",
      "execution_count": null,
      "metadata": {
        "colab": {
          "base_uri": "https://localhost:8080/"
        },
        "id": "lbmtla4PJtTQ",
        "outputId": "ba9ee2b2-6527-4f9f-a7c8-4899499e18ca"
      },
      "outputs": [
        {
          "data": {
            "text/plain": [
              "['0:airplane',\n",
              " '1: automobile',\n",
              " '2: bird',\n",
              " '3:cat',\n",
              " '4:deer',\n",
              " '5:dog',\n",
              " '6:frog',\n",
              " '7:horse',\n",
              " '8: ship ',\n",
              " '9:truck']"
            ]
          },
          "execution_count": 13,
          "metadata": {},
          "output_type": "execute_result"
        }
      ],
      "source": [
        "class_name"
      ]
    },
    {
      "cell_type": "markdown",
      "metadata": {
        "id": "urreMikrJygb"
      },
      "source": [
        "# 3: Building the CNN"
      ]
    },
    {
      "cell_type": "code",
      "execution_count": null,
      "metadata": {
        "id": "IDxxsTtvKC1J"
      },
      "outputs": [],
      "source": [
        "# Defining the object\n",
        "model = tf.keras.models.Sequential()"
      ]
    },
    {
      "cell_type": "code",
      "execution_count": null,
      "metadata": {
        "id": "69ljBVBBKLQs"
      },
      "outputs": [],
      "source": [
        "#Adding first CCN layer\n",
        "# 1) filters(kernel) = 32\n",
        "# 2) kernal size = 3\n",
        "# 3) padding = same\n",
        "# 4) activation = ReLU\n",
        "# 5) input shape = (32, 32,3)\n",
        "model.add(tf.keras.layers.Conv2D(filters= 32, kernel_size = 3,padding= 'same', activation = 'relu', input_shape = [32, 32,3] ))"
      ]
    },
    {
      "cell_type": "code",
      "execution_count": null,
      "metadata": {
        "id": "-hv26OiONypl"
      },
      "outputs": [],
      "source": [
        "#Adding first CCN layer\n",
        "# 1) filters(kernel) = 32\n",
        "# 2) kernal size = 3\n",
        "# 3) padding = same\n",
        "# 4) activation = ReLU\n",
        "\n",
        "model.add(tf.keras.layers.Conv2D(filters= 32, kernel_size = 3,padding= 'same', activation = 'relu'))\n",
        "\n",
        "# maxpool layer parameters\n",
        "# 1) pool size = 2\n",
        "# 2) strides = 2\n",
        "# 3) padding = valid\n",
        "\n",
        "model.add(tf.keras.layers.MaxPool2D( pool_size = 2, strides=2 , padding='valid'))"
      ]
    },
    {
      "cell_type": "code",
      "execution_count": null,
      "metadata": {
        "id": "yYIu9g4dgQMA"
      },
      "outputs": [],
      "source": [
        "# Adding third CNN layer\n",
        "# 1) filters(kernel) = 64\n",
        "# 2) kernal size = 3\n",
        "# 3) padding = same\n",
        "# 4) activation = ReLU\n",
        "\n",
        "model.add(tf.keras.layers.Conv2D(filters= 644, kernel_size = 3,padding= 'same', activation = 'relu'))\n",
        "\n",
        "# maxpool layer parameters\n",
        "# 1) pool size = 2\n",
        "# 2) strides = 2\n",
        "# 3) padding = valid\n",
        "model.add(tf.keras.layers.MaxPool2D( pool_size = 2, strides=2 , padding='valid'))"
      ]
    },
    {
      "cell_type": "code",
      "execution_count": null,
      "metadata": {
        "id": "ApnpA8xMgqB1"
      },
      "outputs": [],
      "source": [
        "# Adding the dropout layer\n",
        "model.add(tf.keras.layers.Dropout(0.4))"
      ]
    },
    {
      "cell_type": "code",
      "execution_count": null,
      "metadata": {
        "id": "Q_rt3aGRgqG2"
      },
      "outputs": [],
      "source": [
        "# Adding the Flattening layer\n",
        "model.add(tf.keras.layers.Flatten())"
      ]
    },
    {
      "cell_type": "code",
      "execution_count": null,
      "metadata": {
        "id": "OJhetkv8hHBZ"
      },
      "outputs": [],
      "source": [
        "# adding first dense layer\n",
        "model.add(tf.keras.layers.Dense(units = 128 , activation = 'relu'))"
      ]
    },
    {
      "cell_type": "code",
      "execution_count": null,
      "metadata": {
        "id": "8XkzAJ_6hlVs"
      },
      "outputs": [],
      "source": [
        "# Adding second dense layer(output layer)\n",
        "model.add(tf.keras.layers.Dense(units = 10 , activation = 'softmax'))"
      ]
    },
    {
      "cell_type": "code",
      "execution_count": null,
      "metadata": {
        "colab": {
          "base_uri": "https://localhost:8080/"
        },
        "id": "26KhHVRvhlSX",
        "outputId": "48b2548a-12f4-4973-8501-9b98b30d81eb"
      },
      "outputs": [
        {
          "name": "stdout",
          "output_type": "stream",
          "text": [
            "Model: \"sequential\"\n",
            "_________________________________________________________________\n",
            " Layer (type)                Output Shape              Param #   \n",
            "=================================================================\n",
            " conv2d (Conv2D)             (None, 32, 32, 32)        896       \n",
            "                                                                 \n",
            " conv2d_1 (Conv2D)           (None, 32, 32, 32)        9248      \n",
            "                                                                 \n",
            " max_pooling2d (MaxPooling2D  (None, 16, 16, 32)       0         \n",
            " )                                                               \n",
            "                                                                 \n",
            " conv2d_2 (Conv2D)           (None, 16, 16, 644)       186116    \n",
            "                                                                 \n",
            " max_pooling2d_1 (MaxPooling  (None, 8, 8, 644)        0         \n",
            " 2D)                                                             \n",
            "                                                                 \n",
            " dropout (Dropout)           (None, 8, 8, 644)         0         \n",
            "                                                                 \n",
            " flatten (Flatten)           (None, 41216)             0         \n",
            "                                                                 \n",
            " dense (Dense)               (None, 128)               5275776   \n",
            "                                                                 \n",
            " dense_1 (Dense)             (None, 10)                1290      \n",
            "                                                                 \n",
            "=================================================================\n",
            "Total params: 5,473,326\n",
            "Trainable params: 5,473,326\n",
            "Non-trainable params: 0\n",
            "_________________________________________________________________\n"
          ]
        }
      ],
      "source": [
        "model.summary()"
      ]
    },
    {
      "cell_type": "markdown",
      "metadata": {
        "id": "hMgBVnVPig5d"
      },
      "source": [
        "# 4: Training the model"
      ]
    },
    {
      "cell_type": "code",
      "execution_count": null,
      "metadata": {
        "id": "5RkXsIbrh2oW"
      },
      "outputs": [],
      "source": [
        "# Compiling the model\n",
        "model.compile(loss='sparse_categorical_crossentropy',optimizer='adam',\n",
        "              metrics=['sparse_categorical_accuracy'])"
      ]
    },
    {
      "cell_type": "code",
      "execution_count": null,
      "metadata": {
        "colab": {
          "background_save": true,
          "base_uri": "https://localhost:8080/"
        },
        "id": "7PMHZXiejQZ5",
        "outputId": "38c04ef2-7f53-49a7-8636-559b6bb05e51"
      },
      "outputs": [
        {
          "name": "stdout",
          "output_type": "stream",
          "text": [
            "Epoch 1/10\n",
            "5000/5000 [==============================] - 673s 134ms/step - loss: 1.2818 - sparse_categorical_accuracy: 0.5429\n",
            "Epoch 2/10\n",
            "5000/5000 [==============================] - 676s 135ms/step - loss: 0.8791 - sparse_categorical_accuracy: 0.6921\n",
            "Epoch 3/10\n",
            "5000/5000 [==============================] - 723s 145ms/step - loss: 0.7402 - sparse_categorical_accuracy: 0.7403\n",
            "Epoch 4/10\n",
            "5000/5000 [==============================] - 673s 135ms/step - loss: 0.6382 - sparse_categorical_accuracy: 0.7759\n",
            "Epoch 5/10\n",
            "5000/5000 [==============================] - 671s 134ms/step - loss: 0.5600 - sparse_categorical_accuracy: 0.8048\n",
            "Epoch 6/10\n",
            "5000/5000 [==============================] - 675s 135ms/step - loss: 0.4918 - sparse_categorical_accuracy: 0.8256\n",
            "Epoch 7/10\n",
            "5000/5000 [==============================] - 707s 141ms/step - loss: 0.4359 - sparse_categorical_accuracy: 0.8452\n",
            "Epoch 8/10\n",
            "5000/5000 [==============================] - 657s 131ms/step - loss: 0.3936 - sparse_categorical_accuracy: 0.8617\n",
            "Epoch 9/10\n",
            "5000/5000 [==============================] - 699s 140ms/step - loss: 0.3602 - sparse_categorical_accuracy: 0.8733\n",
            "Epoch 10/10\n",
            "5000/5000 [==============================] - 683s 137ms/step - loss: 0.3300 - sparse_categorical_accuracy: 0.8842\n"
          ]
        },
        {
          "data": {
            "text/plain": [
              "<keras.callbacks.History at 0x7f26acb58b10>"
            ]
          },
          "execution_count": null,
          "metadata": {},
          "output_type": "execute_result"
        }
      ],
      "source": [
        "model.fit(x_train, y_train, batch_size=10, epochs=10)"
      ]
    },
    {
      "cell_type": "markdown",
      "metadata": {
        "id": "j1ArWWBWkPc7"
      },
      "source": [
        "# 5: Model evaluation and prediction"
      ]
    },
    {
      "cell_type": "code",
      "execution_count": null,
      "metadata": {
        "id": "yh9072RDkWGF"
      },
      "outputs": [],
      "source": [
        "# evaluate the model performance\n",
        "test_loss, test_acc = model.evaluate(x_test, y_test)"
      ]
    },
    {
      "cell_type": "code",
      "execution_count": null,
      "metadata": {
        "colab": {
          "background_save": true
        },
        "id": "vJ55ACvkksfR",
        "outputId": "aba48cb5-5a7e-4503-c002-8e83850e7d41"
      },
      "outputs": [
        {
          "name": "stdout",
          "output_type": "stream",
          "text": [
            "Test Accuracy is: 0.7401000261306763\n"
          ]
        }
      ],
      "source": [
        "print('Test Accuracy is: {}'.format(test_acc))"
      ]
    },
    {
      "cell_type": "code",
      "execution_count": null,
      "metadata": {
        "id": "4J0gP_rMk5oQ"
      },
      "outputs": [],
      "source": [
        "# Predictions \n",
        "y_pred = model.predict_classes(x_test)"
      ]
    },
    {
      "cell_type": "code",
      "execution_count": null,
      "metadata": {
        "id": "P4iFDpzflD3D"
      },
      "outputs": [],
      "source": [
        "print(y_pred[0]), print(y_test[0])"
      ]
    },
    {
      "cell_type": "code",
      "execution_count": null,
      "metadata": {
        "id": "WbARB5jVlMSc"
      },
      "outputs": [],
      "source": [
        "# Confusion matrix\n",
        "\n",
        "from sklearn.metrics import Confusion_matrix, accuracy_score\n",
        "cm = confusion_matrix(y_test, y_pred)"
      ]
    },
    {
      "cell_type": "code",
      "execution_count": null,
      "metadata": {
        "id": "QYBzOanrlhL5"
      },
      "outputs": [],
      "source": [
        "acc_cm = accuracy_score(y_test, y_pred)"
      ]
    }
  ],
  "metadata": {
    "colab": {
      "collapsed_sections": [],
      "name": "Object recognition using CNN.ipynb",
      "provenance": [],
      "toc_visible": true
    },
    "kernelspec": {
      "display_name": "Python 3",
      "name": "python3"
    },
    "language_info": {
      "name": "python"
    }
  },
  "nbformat": 4,
  "nbformat_minor": 0
}